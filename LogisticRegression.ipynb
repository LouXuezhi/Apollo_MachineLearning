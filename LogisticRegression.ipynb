{
 "cells": [
  {
   "cell_type": "markdown",
   "id": "1edcefc7-527d-4fde-823e-f8df5cfecb5d",
   "metadata": {},
   "source": [
    "# 多项式回归"
   ]
  },
  {
   "cell_type": "code",
   "execution_count": 1,
   "id": "05d7224e-380c-46be-8de5-1f2510400451",
   "metadata": {},
   "outputs": [],
   "source": [
    "import numpy as np\n",
    "from sklearn.linear_model import LogisticRegression\n",
    "# LogisticRegression 逻辑回归\n",
    "# Multinomial Logistic Regression 多项逻辑回归\n",
    "import os\n",
    "import sys"
   ]
  },
  {
   "cell_type": "markdown",
   "id": "1e7f0113-e7bb-4611-aed6-ff0a67389a82",
   "metadata": {},
   "source": [
    "从 sklearn 库的 linear_model 模块中导入 LogisticRegression 类，这个类是一种用于分类问题的机器学习模型，常用于处理二分类或多分类问题。"
   ]
  },
  {
   "cell_type": "code",
   "execution_count": 2,
   "id": "15651168-f1e1-4fe1-a636-1dd6cf9c26de",
   "metadata": {},
   "outputs": [
    {
     "ename": "ModuleNotFoundError",
     "evalue": "No module named 'datasets.MNIST'",
     "output_type": "error",
     "traceback": [
      "\u001b[31m---------------------------------------------------------------------------\u001b[39m",
      "\u001b[31mModuleNotFoundError\u001b[39m                       Traceback (most recent call last)",
      "\u001b[36mCell\u001b[39m\u001b[36m \u001b[39m\u001b[32mIn[2]\u001b[39m\u001b[32m, line 16\u001b[39m\n\u001b[32m     13\u001b[39m     \u001b[38;5;28;01mreturn\u001b[39;00m X_train, y_train, X_test, y_test\n\u001b[32m     15\u001b[39m \u001b[38;5;66;03m# 加载数据\u001b[39;00m\n\u001b[32m---> \u001b[39m\u001b[32m16\u001b[39m X_train, y_train, X_test, y_test = \u001b[43mload_mnist_data\u001b[49m\u001b[43m(\u001b[49m\u001b[43m)\u001b[49m\n",
      "\u001b[36mCell\u001b[39m\u001b[36m \u001b[39m\u001b[32mIn[2]\u001b[39m\u001b[32m, line 3\u001b[39m, in \u001b[36mload_mnist_data\u001b[39m\u001b[34m()\u001b[39m\n\u001b[32m      2\u001b[39m \u001b[38;5;28;01mdef\u001b[39;00m\u001b[38;5;250m \u001b[39m\u001b[34mload_mnist_data\u001b[39m():\n\u001b[32m----> \u001b[39m\u001b[32m3\u001b[39m     \u001b[38;5;28;01mfrom\u001b[39;00m\u001b[38;5;250m \u001b[39m\u001b[34;01mdatasets\u001b[39;00m\u001b[34;01m.\u001b[39;00m\u001b[34;01mMNIST\u001b[39;00m\u001b[34;01m.\u001b[39;00m\u001b[34;01mraw\u001b[39;00m\u001b[34;01m.\u001b[39;00m\u001b[34;01mload_data\u001b[39;00m\u001b[38;5;250m \u001b[39m\u001b[38;5;28;01mimport\u001b[39;00m load_local_mnist\n\u001b[32m      4\u001b[39m     base_path = os.path.join(os.path.dirname(os.path.dirname(os.path.dirname(\u001b[34m__file__\u001b[39m))), \u001b[33m'\u001b[39m\u001b[33mdatasets\u001b[39m\u001b[33m'\u001b[39m, \u001b[33m'\u001b[39m\u001b[33mMNIST\u001b[39m\u001b[33m'\u001b[39m, \u001b[33m'\u001b[39m\u001b[33mraw\u001b[39m\u001b[33m'\u001b[39m)\n\u001b[32m      5\u001b[39m     (X_train, y_train), (X_test, y_test) = load_local_mnist(\n\u001b[32m      6\u001b[39m         x_train_path=os.path.join(base_path, \u001b[33m'\u001b[39m\u001b[33mtrain-images-idx3-ubyte.gz\u001b[39m\u001b[33m'\u001b[39m),\n\u001b[32m      7\u001b[39m         y_train_path=os.path.join(base_path, \u001b[33m'\u001b[39m\u001b[33mtrain-labels-idx1-ubyte.gz\u001b[39m\u001b[33m'\u001b[39m),\n\u001b[32m   (...)\u001b[39m\u001b[32m     11\u001b[39m         one_hot=\u001b[38;5;28;01mFalse\u001b[39;00m\n\u001b[32m     12\u001b[39m     )\n",
      "\u001b[31mModuleNotFoundError\u001b[39m: No module named 'datasets.MNIST'"
     ]
    }
   ],
   "source": [
    "# 从本地加载MNIST数据集\n",
    "def load_mnist_data():\n",
    "    from datasets.MNIST.raw.load_data import load_local_mnist\n",
    "    base_path = os.path.join(os.path.dirname(os.path.dirname(os.path.dirname(__file__))), 'datasets', 'MNIST', 'raw')\n",
    "    (X_train, y_train), (X_test, y_test) = load_local_mnist(\n",
    "        x_train_path=os.path.join(base_path, 'train-images-idx3-ubyte.gz'),\n",
    "        y_train_path=os.path.join(base_path, 'train-labels-idx1-ubyte.gz'),\n",
    "        x_test_path=os.path.join(base_path, 't10k-images-idx3-ubyte.gz'),\n",
    "        y_test_path=os.path.join(base_path, 't10k-labels-idx1-ubyte.gz'),\n",
    "        normalize=True,\n",
    "        one_hot=False\n",
    "    )\n",
    "    return X_train, y_train, X_test, y_test\n",
    "\n",
    "# 加载数据\n",
    "X_train, y_train, X_test, y_test = load_mnist_data()\n",
    "\n"
   ]
  },
  {
   "cell_type": "markdown",
   "id": "d467f231-f0f5-4dd7-88c8-dbc0bda069a1",
   "metadata": {},
   "source": [
    "这两行代码首先导入了我们自定义的 load_local_mnist 函数，然后设置了数据集的路径。\n",
    "base_path 就像是一个地图，告诉程序去哪里找数据文件。\n",
    "os.path.join 函数就像是在帮我们连接路径的各个部分，确保在不同的操作系统上都能正确找到文件。\n",
    "os.path.dirname 去除文件名，只获取目录路径\n",
    "__file__是一个在Python脚本中自动定义的变量，它包含了当前脚本的完整路径"
   ]
  },
  {
   "cell_type": "code",
   "execution_count": null,
   "id": "55283a4f-8951-4666-a3a7-da8b60153b14",
   "metadata": {},
   "outputs": [],
   "source": []
  }
 ],
 "metadata": {
  "kernelspec": {
   "display_name": "ML",
   "language": "python",
   "name": "python3"
  },
  "language_info": {
   "codemirror_mode": {
    "name": "ipython",
    "version": 3
   },
   "file_extension": ".py",
   "mimetype": "text/x-python",
   "name": "python",
   "nbconvert_exporter": "python",
   "pygments_lexer": "ipython3",
   "version": "3.13.7"
  }
 },
 "nbformat": 4,
 "nbformat_minor": 5
}
